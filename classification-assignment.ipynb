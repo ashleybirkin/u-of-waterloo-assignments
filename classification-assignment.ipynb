{
  "cells": [
    {
      "cell_type": "markdown",
      "metadata": {
        "id": "-ApVtQdXXybg"
      },
      "source": [
        "Before you turn this problem in, make sure everything runs as expected. First, **restart the kernel** (in the menu bar, select Kernel$\\rightarrow$Restart) and then **run all cells** (in the menu bar, select Cell$\\rightarrow$Run All).\n",
        "\n",
        "\n",
        "Below, please fill in your name and collaborators, if any:"
      ]
    },
    {
      "cell_type": "code",
      "execution_count": 47,
      "metadata": {
        "id": "VAsSyd0jXybh"
      },
      "outputs": [],
      "source": [
        "NAME = \"ASHLEY BIRKIN\"\n",
        "COLLABORATORS = \"\""
      ]
    },
    {
      "cell_type": "markdown",
      "metadata": {
        "id": "32vUEzJPXybi"
      },
      "source": [
        "# Assignment 4 - Classification"
      ]
    },
    {
      "cell_type": "markdown",
      "metadata": {
        "id": "Tgrb7XllXybi"
      },
      "source": [
        "In this assignment, you will practice using the kNN (k-Nearest Neighbors) algorithm to solve a classification problem.\n",
        "The kNN is a simple and robust classifier, which is used in different applications.\n",
        "\n",
        "We will use the Iris dataset for this assignment.\n",
        "The dataset was first introduced by statistician R. Fisher and consists of 50 observations from each of three species Iris (_Iris setosa_, _Iris virginica_ and _Iris versicolor_). For each sample, 4 features are given: the sepal length and width, and the petal length and width.\n",
        "\n",
        "The goal is to train kNN algorithm to distinguish the species from one another."
      ]
    },
    {
      "cell_type": "markdown",
      "metadata": {
        "id": "eNLW6ytmXybi"
      },
      "source": [
        "1. The dataset can be downloaded from UCI Machine Learning Repository: https://archive.ics.uci.edu/ml/machine-learning-databases/iris/.\n",
        "\n",
        "2. Download `iris.data` file from the Data Folder. The Data Set description with the definitions of all the columns can be found on the dataset page - https://archive.ics.uci.edu/ml/datasets/Iris. Alternatively, you can import the data using sklearn.datasets. You will need to dowload both the sepal/petal data and the target variable information, then merge the two datasets.\n",
        "\n",
        "3. _(1 points)_ Load the data from the file (`iris.data`) into the DataFrame. Set the names of columns according to the column definitions given in Data Description.\n",
        "\n",
        "4. _(2 points)_ **Data inspection.**\n",
        "    - Display the first 5 rows of the dataset and use any relevant functions that can help you to understand the data.\n",
        "    - Prepare 2 scatter plots - `sepal_width` vs `sepal_length` and `petal_width` vs `petal_length`. Scatter plots should show each class in different color (`seaborn.lmplot` is recommended for plotting).\n",
        "\n",
        "5. _(2 points)_ **Prepare the data for classification**.\n",
        "    - Using the pandas operators prepare the feature variables `X` and the response `Y` for the fit. Note that `sklean` expects data as arrays, so convert extracted columns into arrays.\n",
        "\n",
        "6. _(1 point)_ **Split** the data into `train` and `test` using `sklearn` `train_test_split` function.\n",
        "\n",
        "7. _(2 points)_ **Run the fit** using `KNeighborsClassifier` from `sklearn.neighbors`.\n",
        "    - First, instantiate the model,\n",
        "    - Then, run the classifier on the training set.\n",
        "\n",
        "8. _(3 points)_ Use learning model to **predict the class from features**, run prediction on `X` from test part.\n",
        "    - Show the **accuracy score** of the prediction by comparing predicted iris classes and the `Y` values from the test.\n",
        "    - Comparing these two arrays (predicted classes and test `Y`), count the numbers of correct predictions and predictions that were wrong. (**HINTS:** `NumPy` arrays can be compared using `==` operator. You can also use `NumPy`'s operator `count_nonzero` to count number of non-False values).\n",
        "\n",
        "9. _(4 points)_ In this task, we want to see how accuracy score and the number of correct predictions change with the number of neighbors `k`. We will use the following **number of neighbors `k`: 1, 3, 5, 7, 10, 20, 30, 40, and 50**:\n",
        "    - Generate 10 random train/test splits for each value of `k`\n",
        "    - Fit the model for each split and generate predictions\n",
        "    - Average the accuracy score for each `k`\n",
        "    - Calculate the average number of correct predictions for each `k` as well\n",
        "    - Plot the accuracy score for different values of `k`. What conclusion can you make based on the graph?\n"
      ]
    },
    {
      "cell_type": "code",
      "execution_count": 48,
      "metadata": {
        "colab": {
          "base_uri": "https://localhost:8080/"
        },
        "id": "YZ3hkU1qXybi",
        "outputId": "4249fa01-a457-42c7-963e-0a0059dbb10f"
      },
      "outputs": [
        {
          "output_type": "stream",
          "name": "stdout",
          "text": [
            "Requirement already satisfied: matplotlib-venn in /usr/local/lib/python3.10/dist-packages (1.1.1)\n",
            "Requirement already satisfied: matplotlib in /usr/local/lib/python3.10/dist-packages (from matplotlib-venn) (3.8.0)\n",
            "Requirement already satisfied: numpy in /usr/local/lib/python3.10/dist-packages (from matplotlib-venn) (1.26.4)\n",
            "Requirement already satisfied: scipy in /usr/local/lib/python3.10/dist-packages (from matplotlib-venn) (1.13.1)\n",
            "Requirement already satisfied: contourpy>=1.0.1 in /usr/local/lib/python3.10/dist-packages (from matplotlib->matplotlib-venn) (1.3.1)\n",
            "Requirement already satisfied: cycler>=0.10 in /usr/local/lib/python3.10/dist-packages (from matplotlib->matplotlib-venn) (0.12.1)\n",
            "Requirement already satisfied: fonttools>=4.22.0 in /usr/local/lib/python3.10/dist-packages (from matplotlib->matplotlib-venn) (4.55.0)\n",
            "Requirement already satisfied: kiwisolver>=1.0.1 in /usr/local/lib/python3.10/dist-packages (from matplotlib->matplotlib-venn) (1.4.7)\n",
            "Requirement already satisfied: packaging>=20.0 in /usr/local/lib/python3.10/dist-packages (from matplotlib->matplotlib-venn) (24.2)\n",
            "Requirement already satisfied: pillow>=6.2.0 in /usr/local/lib/python3.10/dist-packages (from matplotlib->matplotlib-venn) (11.0.0)\n",
            "Requirement already satisfied: pyparsing>=2.3.1 in /usr/local/lib/python3.10/dist-packages (from matplotlib->matplotlib-venn) (3.2.0)\n",
            "Requirement already satisfied: python-dateutil>=2.7 in /usr/local/lib/python3.10/dist-packages (from matplotlib->matplotlib-venn) (2.8.2)\n",
            "Requirement already satisfied: six>=1.5 in /usr/local/lib/python3.10/dist-packages (from python-dateutil>=2.7->matplotlib->matplotlib-venn) (1.16.0)\n"
          ]
        }
      ],
      "source": [
        "\n",
        "!pip install matplotlib-venn\n",
        "\n",
        "import pandas as pd\n",
        "import matplotlib.pyplot as plt\n",
        "import seaborn as sns\n",
        "%matplotlib inline\n",
        "import numpy as np\n",
        "from sklearn.model_selection import train_test_split\n",
        "from sklearn.neighbors import KNeighborsClassifier"
      ]
    },
    {
      "cell_type": "markdown",
      "source": [
        "## IMPORT DATA"
      ],
      "metadata": {
        "id": "4_anSblW4uWv"
      }
    },
    {
      "cell_type": "code",
      "execution_count": 49,
      "metadata": {
        "id": "oWjs5J7FXybj"
      },
      "outputs": [],
      "source": [
        "from sklearn.datasets import load_iris\n",
        "data=load_iris().data\n",
        "target=load_iris().target\n",
        "df_data=pd.DataFrame(data,columns=['sepal_length','sepal_width','petal_length','petal_width'])\n",
        "df_target=pd.DataFrame(target,columns=['target'])\n"
      ]
    },
    {
      "cell_type": "markdown",
      "source": [
        "## DATAFRAME COMBINATION"
      ],
      "metadata": {
        "id": "17yyR2-XbEa9"
      }
    },
    {
      "cell_type": "code",
      "execution_count": 50,
      "metadata": {
        "colab": {
          "base_uri": "https://localhost:8080/"
        },
        "id": "6Kbvv-JPXybj",
        "outputId": "4d1816c0-0257-44cd-e465-0c56c5bb5a73"
      },
      "outputs": [
        {
          "output_type": "stream",
          "name": "stdout",
          "text": [
            "     sepal_length  sepal_width  petal_length  petal_width  target\n",
            "0             5.1          3.5           1.4          0.2       0\n",
            "1             4.9          3.0           1.4          0.2       0\n",
            "2             4.7          3.2           1.3          0.2       0\n",
            "3             4.6          3.1           1.5          0.2       0\n",
            "4             5.0          3.6           1.4          0.2       0\n",
            "..            ...          ...           ...          ...     ...\n",
            "145           6.7          3.0           5.2          2.3       2\n",
            "146           6.3          2.5           5.0          1.9       2\n",
            "147           6.5          3.0           5.2          2.0       2\n",
            "148           6.2          3.4           5.4          2.3       2\n",
            "149           5.9          3.0           5.1          1.8       2\n",
            "\n",
            "[150 rows x 5 columns]\n",
            "<class 'pandas.core.frame.DataFrame'>\n",
            "RangeIndex: 150 entries, 0 to 149\n",
            "Data columns (total 5 columns):\n",
            " #   Column        Non-Null Count  Dtype  \n",
            "---  ------        --------------  -----  \n",
            " 0   sepal_length  150 non-null    float64\n",
            " 1   sepal_width   150 non-null    float64\n",
            " 2   petal_length  150 non-null    float64\n",
            " 3   petal_width   150 non-null    float64\n",
            " 4   target        150 non-null    int64  \n",
            "dtypes: float64(4), int64(1)\n",
            "memory usage: 6.0 KB\n"
          ]
        }
      ],
      "source": [
        "iris_data = pd.concat([df_data, df_target[\"target\"]], axis = 1)\n",
        "print(iris_data)\n",
        "\n",
        "\n",
        "iris_data.head(5)\n",
        "iris_data.describe()\n",
        "iris_data.info()"
      ]
    },
    {
      "cell_type": "markdown",
      "source": [
        "## SCATTER PLOT - SEPAL WIDTH VS. SEPAL LENGTH\n",
        "\n"
      ],
      "metadata": {
        "id": "XMr4qLb8dA1b"
      }
    },
    {
      "cell_type": "code",
      "execution_count": 51,
      "metadata": {
        "colab": {
          "base_uri": "https://localhost:8080/",
          "height": 506
        },
        "id": "AUOrnVQ4Xybj",
        "outputId": "4bc6e12c-c2f9-4be6-9229-87db07a4814c"
      },
      "outputs": [
        {
          "output_type": "display_data",
          "data": {
            "text/plain": [
              "<Figure size 558.875x500 with 1 Axes>"
            ],
            "image/png": "[encoded data removed]"
          },
          "metadata": {}
        }
      ],
      "source": [
        "sns.lmplot(iris_data, x=\"sepal_length\", y=\"sepal_width\", hue=\"target\", palette=\"mako\")\n",
        "plt.show()"
      ]
    },
    {
      "cell_type": "markdown",
      "source": [
        "## SCATTER PLOT - PETAL WIDTH VS. PETAL LENGTH\n"
      ],
      "metadata": {
        "id": "gBZWHucbdN6m"
      }
    },
    {
      "cell_type": "code",
      "execution_count": 52,
      "metadata": {
        "colab": {
          "base_uri": "https://localhost:8080/",
          "height": 506
        },
        "id": "09nlV8_IXybj",
        "outputId": "9737b0e6-803f-4295-91e8-d6a9228944aa"
      },
      "outputs": [
        {
          "output_type": "display_data",
          "data": {
            "text/plain": [
              "<Figure size 558.875x500 with 1 Axes>"
            ],
            "image/png": "[encoded data removed]"
          },
          "metadata": {}
        }
      ],
      "source": [
        "sns.lmplot(iris_data, x=\"petal_length\", y=\"petal_width\", hue=\"target\", palette=\"mako\")\n",
        "plt.show()"
      ]
    },
    {
      "cell_type": "markdown",
      "source": [
        "## DATA PREPERATION FOR CLASSIFICATION"
      ],
      "metadata": {
        "id": "ddsDBBG_dVbU"
      }
    },
    {
      "cell_type": "code",
      "execution_count": 53,
      "metadata": {
        "colab": {
          "base_uri": "https://localhost:8080/"
        },
        "id": "5kS9zUNrXybj",
        "outputId": "10dd80d6-db5f-4f24-9535-e00494105857"
      },
      "outputs": [
        {
          "output_type": "stream",
          "name": "stdout",
          "text": [
            "Test: 73     1\n",
            "18     0\n",
            "118    2\n",
            "78     1\n",
            "76     1\n",
            "31     0\n",
            "64     1\n",
            "141    2\n",
            "68     1\n",
            "82     1\n",
            "110    2\n",
            "12     0\n",
            "36     0\n",
            "9      0\n",
            "19     0\n",
            "56     1\n",
            "104    2\n",
            "69     1\n",
            "55     1\n",
            "132    2\n",
            "29     0\n",
            "127    2\n",
            "26     0\n",
            "128    2\n",
            "131    2\n",
            "145    2\n",
            "108    2\n",
            "143    2\n",
            "45     0\n",
            "30     0\n",
            "Name: target, dtype: int64\n",
            "(120, 4) (30, 4)\n",
            "(120,) (30,)\n"
          ]
        }
      ],
      "source": [
        "from sklearn.preprocessing import StandardScaler\n",
        "\n",
        "iris_data.dropna(inplace=True)\n",
        "\n",
        "X=iris_data.drop(\"target\", axis=1)\n",
        "y=iris_data[\"target\"]\n",
        "\n",
        "X_train, X_test, y_train, y_test = train_test_split(X, y, test_size=0.2, random_state=42)\n",
        "print(\"Test:\", y_test)\n",
        "\n",
        "\n",
        "scaler = StandardScaler()\n",
        "\n",
        "X_train_scaled = scaler.fit_transform(X_train)\n",
        "X_test_scaled = scaler.transform(X_test)\n",
        "\n",
        "print(X_train_scaled.shape, X_test_scaled.shape)\n",
        "print(y_train.shape, y_test.shape)"
      ]
    },
    {
      "cell_type": "markdown",
      "source": [
        "## TRAIN & TEST SPLIT"
      ],
      "metadata": {
        "id": "r3P0VGC0dfQH"
      }
    },
    {
      "cell_type": "code",
      "source": [],
      "metadata": {
        "id": "0-ifFY6SdnpE"
      },
      "execution_count": 53,
      "outputs": []
    },
    {
      "cell_type": "markdown",
      "source": [
        "## KNEIGHBORSCLASSIFIER FIT"
      ],
      "metadata": {
        "id": "YfkGoX2Hdoi7"
      }
    },
    {
      "cell_type": "code",
      "source": [
        "knn = KNeighborsClassifier(n_neighbors=3)\n",
        "\n",
        "knn.fit(X_train_scaled, y_train)\n",
        "\n",
        "y_pred = knn.predict(X_test_scaled)\n",
        "\n",
        "print(\"Predictions:\", y_pred)\n"
      ],
      "metadata": {
        "colab": {
          "base_uri": "https://localhost:8080/"
        },
        "id": "edEzqTHrd9wL",
        "outputId": "e89885aa-2b1b-46f6-a86f-5affe4cc0be0"
      },
      "execution_count": 54,
      "outputs": [
        {
          "output_type": "stream",
          "name": "stdout",
          "text": [
            "Predictions: [1 0 2 1 1 0 1 2 1 1 2 0 0 0 0 1 2 1 1 2 0 2 0 2 2 2 2 2 0 0]\n"
          ]
        }
      ]
    },
    {
      "cell_type": "markdown",
      "source": [
        "## ACCURACY SCORE"
      ],
      "metadata": {
        "id": "b2_6g6-Td_X_"
      }
    },
    {
      "cell_type": "code",
      "source": [
        "accuracy = knn.score(X_test_scaled, y_test)\n",
        "\n",
        "print(f\"Accuracy: {accuracy}\" )"
      ],
      "metadata": {
        "colab": {
          "base_uri": "https://localhost:8080/"
        },
        "id": "x0a9bnq1eHSB",
        "outputId": "388d7200-f58d-4353-e557-733e75967c98"
      },
      "execution_count": 55,
      "outputs": [
        {
          "output_type": "stream",
          "name": "stdout",
          "text": [
            "Accuracy: 1.0\n"
          ]
        }
      ]
    },
    {
      "cell_type": "markdown",
      "source": [
        "## ARRAY COMPARISON"
      ],
      "metadata": {
        "id": "ZZCiRHZ6eHnK"
      }
    },
    {
      "cell_type": "code",
      "source": [
        "y_test_array = y_test.to_numpy()\n",
        "\n",
        "print(y_test_array)\n",
        "\n",
        "\n",
        "correct_pred = np.sum(y_pred == y_test)\n",
        "incorrect_pred = np.sum(y_pred != y_test)\n",
        "\n",
        "print(f\"Correct predictions: {correct_pred}\")\n",
        "print(f\"Incorrect predictions: {incorrect_pred}\")"
      ],
      "metadata": {
        "colab": {
          "base_uri": "https://localhost:8080/"
        },
        "id": "vbXC2a-deQGJ",
        "outputId": "b6e84e23-0a09-4c2a-f0dc-ecf7a9d66c07"
      },
      "execution_count": 56,
      "outputs": [
        {
          "output_type": "stream",
          "name": "stdout",
          "text": [
            "[1 0 2 1 1 0 1 2 1 1 2 0 0 0 0 1 2 1 1 2 0 2 0 2 2 2 2 2 0 0]\n",
            "Correct predictions: 30\n",
            "Incorrect predictions: 0\n"
          ]
        }
      ]
    },
    {
      "cell_type": "code",
      "source": [
        "X_train.describe()"
      ],
      "metadata": {
        "colab": {
          "base_uri": "https://localhost:8080/",
          "height": 300
        },
        "id": "D6enS-oUCVT1",
        "outputId": "1a2c36e4-b067-482c-d763-efcbd4b5096f"
      },
      "execution_count": 57,
      "outputs": [
        {
          "output_type": "execute_result",
          "data": {
            "text/plain": [
              "       sepal_length  sepal_width  petal_length  petal_width\n",
              "count    120.000000   120.000000    120.000000   120.000000\n",
              "mean       5.809167     3.061667      3.726667     1.183333\n",
              "std        0.823805     0.449123      1.752345     0.752289\n",
              "min        4.300000     2.000000      1.000000     0.100000\n",
              "25%        5.100000     2.800000      1.500000     0.300000\n",
              "50%        5.750000     3.000000      4.250000     1.300000\n",
              "75%        6.400000     3.400000      5.100000     1.800000\n",
              "max        7.700000     4.400000      6.700000     2.500000"
            ],
            "text/html": [
              "\n",
              "  <div id=\"df-cb3ccfb4-c5c5-4c75-bde2-6212142e589f\" class=\"colab-df-container\">\n",
              "    <div>\n",
              "<style scoped>\n",
              "    .dataframe tbody tr th:only-of-type {\n",
              "        vertical-align: middle;\n",
              "    }\n",
              "\n",
              "    .dataframe tbody tr th {\n",
              "        vertical-align: top;\n",
              "    }\n",
              "\n",
              "    .dataframe thead th {\n",
              "        text-align: right;\n",
              "    }\n",
              "</style>\n",
              "<table border=\"1\" class=\"dataframe\">\n",
              "  <thead>\n",
              "    <tr style=\"text-align: right;\">\n",
              "      <th></th>\n",
              "      <th>sepal_length</th>\n",
              "      <th>sepal_width</th>\n",
              "      <th>petal_length</th>\n",
              "      <th>petal_width</th>\n",
              "    </tr>\n",
              "  </thead>\n",
              "  <tbody>\n",
              "    <tr>\n",
              "      <th>count</th>\n",
              "      <td>120.000000</td>\n",
              "      <td>120.000000</td>\n",
              "      <td>120.000000</td>\n",
              "      <td>120.000000</td>\n",
              "    </tr>\n",
              "    <tr>\n",
              "      <th>mean</th>\n",
              "      <td>5.809167</td>\n",
              "      <td>3.061667</td>\n",
              "      <td>3.726667</td>\n",
              "      <td>1.183333</td>\n",
              "    </tr>\n",
              "    <tr>\n",
              "      <th>std</th>\n",
              "      <td>0.823805</td>\n",
              "      <td>0.449123</td>\n",
              "      <td>1.752345</td>\n",
              "      <td>0.752289</td>\n",
              "    </tr>\n",
              "    <tr>\n",
              "      <th>min</th>\n",
              "      <td>4.300000</td>\n",
              "      <td>2.000000</td>\n",
              "      <td>1.000000</td>\n",
              "      <td>0.100000</td>\n",
              "    </tr>\n",
              "    <tr>\n",
              "      <th>25%</th>\n",
              "      <td>5.100000</td>\n",
              "      <td>2.800000</td>\n",
              "      <td>1.500000</td>\n",
              "      <td>0.300000</td>\n",
              "    </tr>\n",
              "    <tr>\n",
              "      <th>50%</th>\n",
              "      <td>5.750000</td>\n",
              "      <td>3.000000</td>\n",
              "      <td>4.250000</td>\n",
              "      <td>1.300000</td>\n",
              "    </tr>\n",
              "    <tr>\n",
              "      <th>75%</th>\n",
              "      <td>6.400000</td>\n",
              "      <td>3.400000</td>\n",
              "      <td>5.100000</td>\n",
              "      <td>1.800000</td>\n",
              "    </tr>\n",
              "    <tr>\n",
              "      <th>max</th>\n",
              "      <td>7.700000</td>\n",
              "      <td>4.400000</td>\n",
              "      <td>6.700000</td>\n",
              "      <td>2.500000</td>\n",
              "    </tr>\n",
              "  </tbody>\n",
              "</table>\n",
              "</div>\n",
              "    <div class=\"colab-df-buttons\">\n",
              "\n",
              "  <div class=\"colab-df-container\">\n",
              "    <button class=\"colab-df-convert\" onclick=\"convertToInteractive('df-cb3ccfb4-c5c5-4c75-bde2-6212142e589f')\"\n",
              "            title=\"Convert this dataframe to an interactive table.\"\n",
              "            style=\"display:none;\">\n",
              "\n",
              "  <svg xmlns=\"http://www.w3.org/2000/svg\" height=\"24px\" viewBox=\"0 -960 960 960\">\n",
              "    <path d=\"M120-120v-720h720v720H120Zm60-500h600v-160H180v160Zm220 220h160v-160H400v160Zm0 220h160v-160H400v160ZM180-400h160v-160H180v160Zm440 0h160v-160H620v160ZM180-180h160v-160H180v160Zm440 0h160v-160H620v160Z\"/>\n",
              "  </svg>\n",
              "    </button>\n",
              "\n",
              "  <style>\n",
              "    .colab-df-container {\n",
              "      display:flex;\n",
              "      gap: 12px;\n",
              "    }\n",
              "\n",
              "    .colab-df-convert {\n",
              "      background-color: #E8F0FE;\n",
              "      border: none;\n",
              "      border-radius: 50%;\n",
              "      cursor: pointer;\n",
              "      display: none;\n",
              "      fill: #1967D2;\n",
              "      height: 32px;\n",
              "      padding: 0 0 0 0;\n",
              "      width: 32px;\n",
              "    }\n",
              "\n",
              "    .colab-df-convert:hover {\n",
              "      background-color: #E2EBFA;\n",
              "      box-shadow: 0px 1px 2px rgba(60, 64, 67, 0.3), 0px 1px 3px 1px rgba(60, 64, 67, 0.15);\n",
              "      fill: #174EA6;\n",
              "    }\n",
              "\n",
              "    .colab-df-buttons div {\n",
              "      margin-bottom: 4px;\n",
              "    }\n",
              "\n",
              "    [theme=dark] .colab-df-convert {\n",
              "      background-color: #3B4455;\n",
              "      fill: #D2E3FC;\n",
              "    }\n",
              "\n",
              "    [theme=dark] .colab-df-convert:hover {\n",
              "      background-color: #434B5C;\n",
              "      box-shadow: 0px 1px 3px 1px rgba(0, 0, 0, 0.15);\n",
              "      filter: drop-shadow(0px 1px 2px rgba(0, 0, 0, 0.3));\n",
              "      fill: #FFFFFF;\n",
              "    }\n",
              "  </style>\n",
              "\n",
              "    <script>\n",
              "      const buttonEl =\n",
              "        document.querySelector('#df-cb3ccfb4-c5c5-4c75-bde2-6212142e589f button.colab-df-convert');\n",
              "      buttonEl.style.display =\n",
              "        google.colab.kernel.accessAllowed ? 'block' : 'none';\n",
              "\n",
              "      async function convertToInteractive(key) {\n",
              "        const element = document.querySelector('#df-cb3ccfb4-c5c5-4c75-bde2-6212142e589f');\n",
              "        const dataTable =\n",
              "          await google.colab.kernel.invokeFunction('convertToInteractive',\n",
              "                                                    [key], {});\n",
              "        if (!dataTable) return;\n",
              "\n",
              "        const docLinkHtml = 'Like what you see? Visit the ' +\n",
              "          '<a target=\"_blank\" href=https://colab.research.google.com/notebooks/data_table.ipynb>data table notebook</a>'\n",
              "          + ' to learn more about interactive tables.';\n",
              "        element.innerHTML = '';\n",
              "        dataTable['output_type'] = 'display_data';\n",
              "        await google.colab.output.renderOutput(dataTable, element);\n",
              "        const docLink = document.createElement('div');\n",
              "        docLink.innerHTML = docLinkHtml;\n",
              "        element.appendChild(docLink);\n",
              "      }\n",
              "    </script>\n",
              "  </div>\n",
              "\n",
              "\n",
              "<div id=\"df-f7728cc5-3e10-4643-9627-6b9c2be25c9a\">\n",
              "  <button class=\"colab-df-quickchart\" onclick=\"quickchart('df-f7728cc5-3e10-4643-9627-6b9c2be25c9a')\"\n",
              "            title=\"Suggest charts\"\n",
              "            style=\"display:none;\">\n",
              "\n",
              "<svg xmlns=\"http://www.w3.org/2000/svg\" height=\"24px\"viewBox=\"0 0 24 24\"\n",
              "     width=\"24px\">\n",
              "    <g>\n",
              "        <path d=\"M19 3H5c-1.1 0-2 .9-2 2v14c0 1.1.9 2 2 2h14c1.1 0 2-.9 2-2V5c0-1.1-.9-2-2-2zM9 17H7v-7h2v7zm4 0h-2V7h2v10zm4 0h-2v-4h2v4z\"/>\n",
              "    </g>\n",
              "</svg>\n",
              "  </button>\n",
              "\n",
              "<style>\n",
              "  .colab-df-quickchart {\n",
              "      --bg-color: #E8F0FE;\n",
              "      --fill-color: #1967D2;\n",
              "      --hover-bg-color: #E2EBFA;\n",
              "      --hover-fill-color: #174EA6;\n",
              "      --disabled-fill-color: #AAA;\n",
              "      --disabled-bg-color: #DDD;\n",
              "  }\n",
              "\n",
              "  [theme=dark] .colab-df-quickchart {\n",
              "      --bg-color: #3B4455;\n",
              "      --fill-color: #D2E3FC;\n",
              "      --hover-bg-color: #434B5C;\n",
              "      --hover-fill-color: #FFFFFF;\n",
              "      --disabled-bg-color: #3B4455;\n",
              "      --disabled-fill-color: #666;\n",
              "  }\n",
              "\n",
              "  .colab-df-quickchart {\n",
              "    background-color: var(--bg-color);\n",
              "    border: none;\n",
              "    border-radius: 50%;\n",
              "    cursor: pointer;\n",
              "    display: none;\n",
              "    fill: var(--fill-color);\n",
              "    height: 32px;\n",
              "    padding: 0;\n",
              "    width: 32px;\n",
              "  }\n",
              "\n",
              "  .colab-df-quickchart:hover {\n",
              "    background-color: var(--hover-bg-color);\n",
              "    box-shadow: 0 1px 2px rgba(60, 64, 67, 0.3), 0 1px 3px 1px rgba(60, 64, 67, 0.15);\n",
              "    fill: var(--button-hover-fill-color);\n",
              "  }\n",
              "\n",
              "  .colab-df-quickchart-complete:disabled,\n",
              "  .colab-df-quickchart-complete:disabled:hover {\n",
              "    background-color: var(--disabled-bg-color);\n",
              "    fill: var(--disabled-fill-color);\n",
              "    box-shadow: none;\n",
              "  }\n",
              "\n",
              "  .colab-df-spinner {\n",
              "    border: 2px solid var(--fill-color);\n",
              "    border-color: transparent;\n",
              "    border-bottom-color: var(--fill-color);\n",
              "    animation:\n",
              "      spin 1s steps(1) infinite;\n",
              "  }\n",
              "\n",
              "  @keyframes spin {\n",
              "    0% {\n",
              "      border-color: transparent;\n",
              "      border-bottom-color: var(--fill-color);\n",
              "      border-left-color: var(--fill-color);\n",
              "    }\n",
              "    20% {\n",
              "      border-color: transparent;\n",
              "      border-left-color: var(--fill-color);\n",
              "      border-top-color: var(--fill-color);\n",
              "    }\n",
              "    30% {\n",
              "      border-color: transparent;\n",
              "      border-left-color: var(--fill-color);\n",
              "      border-top-color: var(--fill-color);\n",
              "      border-right-color: var(--fill-color);\n",
              "    }\n",
              "    40% {\n",
              "      border-color: transparent;\n",
              "      border-right-color: var(--fill-color);\n",
              "      border-top-color: var(--fill-color);\n",
              "    }\n",
              "    60% {\n",
              "      border-color: transparent;\n",
              "      border-right-color: var(--fill-color);\n",
              "    }\n",
              "    80% {\n",
              "      border-color: transparent;\n",
              "      border-right-color: var(--fill-color);\n",
              "      border-bottom-color: var(--fill-color);\n",
              "    }\n",
              "    90% {\n",
              "      border-color: transparent;\n",
              "      border-bottom-color: var(--fill-color);\n",
              "    }\n",
              "  }\n",
              "</style>\n",
              "\n",
              "  <script>\n",
              "    async function quickchart(key) {\n",
              "      const quickchartButtonEl =\n",
              "        document.querySelector('#' + key + ' button');\n",
              "      quickchartButtonEl.disabled = true;  // To prevent multiple clicks.\n",
              "      quickchartButtonEl.classList.add('colab-df-spinner');\n",
              "      try {\n",
              "        const charts = await google.colab.kernel.invokeFunction(\n",
              "            'suggestCharts', [key], {});\n",
              "      } catch (error) {\n",
              "        console.error('Error during call to suggestCharts:', error);\n",
              "      }\n",
              "      quickchartButtonEl.classList.remove('colab-df-spinner');\n",
              "      quickchartButtonEl.classList.add('colab-df-quickchart-complete');\n",
              "    }\n",
              "    (() => {\n",
              "      let quickchartButtonEl =\n",
              "        document.querySelector('#df-f7728cc5-3e10-4643-9627-6b9c2be25c9a button');\n",
              "      quickchartButtonEl.style.display =\n",
              "        google.colab.kernel.accessAllowed ? 'block' : 'none';\n",
              "    })();\n",
              "  </script>\n",
              "</div>\n",
              "\n",
              "    </div>\n",
              "  </div>\n"
            ],
            "application/vnd.google.colaboratory.intrinsic+json": {
              "type": "dataframe",
              "summary": "{\n  \"name\": \"X_train\",\n  \"rows\": 8,\n  \"fields\": [\n    {\n      \"column\": \"sepal_length\",\n      \"properties\": {\n        \"dtype\": \"number\",\n        \"std\": 40.66377813095575,\n        \"min\": 0.82380505090996,\n        \"max\": 120.0,\n        \"num_unique_values\": 8,\n        \"samples\": [\n          5.809166666666666,\n          5.75,\n          120.0\n        ],\n        \"semantic_type\": \"\",\n        \"description\": \"\"\n      }\n    },\n    {\n      \"column\": \"sepal_width\",\n      \"properties\": {\n        \"dtype\": \"number\",\n        \"std\": 41.476945469661935,\n        \"min\": 0.44912301721670606,\n        \"max\": 120.0,\n        \"num_unique_values\": 8,\n        \"samples\": [\n          3.0616666666666665,\n          3.0,\n          120.0\n        ],\n        \"semantic_type\": \"\",\n        \"description\": \"\"\n      }\n    },\n    {\n      \"column\": \"petal_length\",\n      \"properties\": {\n        \"dtype\": \"number\",\n        \"std\": 41.25898472935274,\n        \"min\": 1.0,\n        \"max\": 120.0,\n        \"num_unique_values\": 8,\n        \"samples\": [\n          3.7266666666666666,\n          4.25,\n          120.0\n        ],\n        \"semantic_type\": \"\",\n        \"description\": \"\"\n      }\n    },\n    {\n      \"column\": \"petal_width\",\n      \"properties\": {\n        \"dtype\": \"number\",\n        \"std\": 42.032820154812036,\n        \"min\": 0.1,\n        \"max\": 120.0,\n        \"num_unique_values\": 8,\n        \"samples\": [\n          1.1833333333333333,\n          1.3,\n          120.0\n        ],\n        \"semantic_type\": \"\",\n        \"description\": \"\"\n      }\n    }\n  ]\n}"
            }
          },
          "metadata": {},
          "execution_count": 57
        }
      ]
    },
    {
      "cell_type": "markdown",
      "source": [
        "## 10 RANDOM TRAIN/TEST SPLITS"
      ],
      "metadata": {
        "id": "tRiXgrauegkT"
      }
    },
    {
      "cell_type": "code",
      "source": [
        "from sklearn.model_selection import GridSearchCV\n",
        "\n",
        "\n",
        "X=iris_data.drop(\"target\", axis=1)\n",
        "y=iris_data[\"target\"]\n",
        "\n",
        "k_values = [1, 3, 5, 7, 10, 20, 30, 40, 50]\n",
        "\n",
        "knn = KNeighborsClassifier()\n",
        "\n",
        "param_grid = {\"n_neighbors\": k_values}\n",
        "\n",
        "grid_search = GridSearchCV(estimator=knn, param_grid=param_grid, cv=10, scoring=\"accuracy\")\n",
        "\n",
        "grid_search.fit(X, y)\n",
        "\n",
        "print(\"best k value: \", grid_search.best_params_)\n",
        "print(\"best accuracy: \", grid_search.best_score_)\n",
        "\n",
        "for mean_score, params in zip(grid_search.cv_results_[\"mean_test_score\"], grid_search.cv_results_[\"params\"]):\n",
        "  k = params[\"n_neighbors\"]\n",
        "  print(f\"k={k}=> mean accuracy: {mean_score:.4f}\")\n"
      ],
      "metadata": {
        "colab": {
          "base_uri": "https://localhost:8080/"
        },
        "id": "w9_hh1XsesWv",
        "outputId": "561ad8af-9a53-430e-c10e-e4f11c8c05b4"
      },
      "execution_count": 58,
      "outputs": [
        {
          "output_type": "stream",
          "name": "stdout",
          "text": [
            "best k value:  {'n_neighbors': 20}\n",
            "best accuracy:  0.9800000000000001\n",
            "k=1=> mean accuracy: 0.9600\n",
            "k=3=> mean accuracy: 0.9667\n",
            "k=5=> mean accuracy: 0.9667\n",
            "k=7=> mean accuracy: 0.9667\n",
            "k=10=> mean accuracy: 0.9667\n",
            "k=20=> mean accuracy: 0.9800\n",
            "k=30=> mean accuracy: 0.9533\n",
            "k=40=> mean accuracy: 0.9533\n",
            "k=50=> mean accuracy: 0.9267\n"
          ]
        }
      ]
    },
    {
      "cell_type": "markdown",
      "source": [
        "## PREDICTION MODEL"
      ],
      "metadata": {
        "id": "fVZtURlCesrx"
      }
    },
    {
      "cell_type": "code",
      "source": [
        "results = grid_search.cv_results_\n",
        "\n",
        "random_df = pd.DataFrame({\"k\":[params[\"n_neighbors\"] for params in results[\"params\"]],\"mean_accuracy\": results[\"mean_test_score\"]})\n",
        "\n",
        "print(random_df)\n"
      ],
      "metadata": {
        "colab": {
          "base_uri": "https://localhost:8080/"
        },
        "id": "TfVbHAVEezAP",
        "outputId": "012a449b-eefe-4ae1-8266-d6c8dc9206db"
      },
      "execution_count": 59,
      "outputs": [
        {
          "output_type": "stream",
          "name": "stdout",
          "text": [
            "    k  mean_accuracy\n",
            "0   1       0.960000\n",
            "1   3       0.966667\n",
            "2   5       0.966667\n",
            "3   7       0.966667\n",
            "4  10       0.966667\n",
            "5  20       0.980000\n",
            "6  30       0.953333\n",
            "7  40       0.953333\n",
            "8  50       0.926667\n"
          ]
        }
      ]
    },
    {
      "cell_type": "markdown",
      "source": [
        "## ACCURACY SCORE PLOT"
      ],
      "metadata": {
        "id": "9Vrzx2E7e-lE"
      }
    },
    {
      "cell_type": "code",
      "source": [
        "plt.figure(figsize=(10, 6))\n",
        "sns.lineplot(x=\"k\", y=\"mean_accuracy\", data=random_df, marker=\"o\", label=\"Mean Accuracy\", c=\"green\")\n",
        "\n",
        "plt.xlabel(\"Number of Neighbors (k)\", fontsize=12)\n",
        "plt.ylabel(\"Mean Accuracy\", fontsize=12)\n",
        "plt.title(\"Accuracy vs. Number of Neighbors (k )\", fontsize=14)\n",
        "\n",
        "plt.grid(True)\n",
        "plt.legend()\n",
        "plt.show()\n",
        "\n"
      ],
      "metadata": {
        "id": "FGbEn3PgfDSH",
        "colab": {
          "base_uri": "https://localhost:8080/",
          "height": 569
        },
        "outputId": "d45f8b97-0788-49dc-d476-292535b79325"
      },
      "execution_count": 60,
      "outputs": [
        {
          "output_type": "display_data",
          "data": {
            "text/plain": [
              "<Figure size 1000x600 with 1 Axes>"
            ],
            "image/png": "[encoded data removed]"
          },
          "metadata": {}
        }
      ]
    },
    {
      "cell_type": "markdown",
      "source": [],
      "metadata": {
        "id": "Hx3X5QyPfDeq"
      }
    }
  ],
  "metadata": {
    "kernelspec": {
      "display_name": "Python 3",
      "language": "python",
      "name": "python3"
    },
    "language_info": {
      "codemirror_mode": {
        "name": "ipython",
        "version": 3
      },
      "file_extension": ".py",
      "mimetype": "text/x-python",
      "name": "python",
      "nbconvert_exporter": "python",
      "pygments_lexer": "ipython3",
      "version": "3.7.7"
    },
    "toc": {
      "base_numbering": 1,
      "nav_menu": {},
      "number_sections": true,
      "sideBar": true,
      "skip_h1_title": true,
      "title_cell": "Table of Contents",
      "title_sidebar": "Contents",
      "toc_cell": false,
      "toc_position": {},
      "toc_section_display": true,
      "toc_window_display": false
    },
    "colab": {
      "provenance": []
    }
  },
  "nbformat": 4,
  "nbformat_minor": 0
}
